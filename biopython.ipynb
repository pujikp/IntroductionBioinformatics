{
  "nbformat": 4,
  "nbformat_minor": 0,
  "metadata": {
    "colab": {
      "provenance": [],
      "authorship_tag": "ABX9TyN95tm7bVjIJZIfLWhUX1n1",
      "include_colab_link": true
    },
    "kernelspec": {
      "name": "python3",
      "display_name": "Python 3"
    },
    "language_info": {
      "name": "python"
    }
  },
  "cells": [
    {
      "cell_type": "markdown",
      "metadata": {
        "id": "view-in-github",
        "colab_type": "text"
      },
      "source": [
        "<a href=\"https://colab.research.google.com/github/pujikp/IntroductionBioinformatics/blob/main/biopython.ipynb\" target=\"_parent\"><img src=\"https://colab.research.google.com/assets/colab-badge.svg\" alt=\"Open In Colab\"/></a>"
      ]
    },
    {
      "cell_type": "code",
      "execution_count": 6,
      "metadata": {
        "colab": {
          "base_uri": "https://localhost:8080/"
        },
        "id": "EmlAOcjG-vla",
        "outputId": "e86737b8-e70f-4efc-a776-7f02d72d1d76"
      },
      "outputs": [
        {
          "output_type": "stream",
          "name": "stdout",
          "text": [
            "Collecting biopython\n",
            "  Downloading biopython-1.85-cp312-cp312-manylinux_2_17_x86_64.manylinux2014_x86_64.whl.metadata (13 kB)\n",
            "Requirement already satisfied: numpy in /usr/local/lib/python3.12/dist-packages (from biopython) (2.0.2)\n",
            "Downloading biopython-1.85-cp312-cp312-manylinux_2_17_x86_64.manylinux2014_x86_64.whl (3.3 MB)\n",
            "\u001b[?25l   \u001b[90m━━━━━━━━━━━━━━━━━━━━━━━━━━━━━━━━━━━━━━━━\u001b[0m \u001b[32m0.0/3.3 MB\u001b[0m \u001b[31m?\u001b[0m eta \u001b[36m-:--:--\u001b[0m\r\u001b[2K   \u001b[91m━━━━━━━━━━━━━━━━━━━━━━━━━━━━━━━━━━━━━━━\u001b[0m\u001b[91m╸\u001b[0m \u001b[32m3.3/3.3 MB\u001b[0m \u001b[31m139.6 MB/s\u001b[0m eta \u001b[36m0:00:01\u001b[0m\r\u001b[2K   \u001b[90m━━━━━━━━━━━━━━━━━━━━━━━━━━━━━━━━━━━━━━━━\u001b[0m \u001b[32m3.3/3.3 MB\u001b[0m \u001b[31m74.6 MB/s\u001b[0m eta \u001b[36m0:00:00\u001b[0m\n",
            "\u001b[?25hInstalling collected packages: biopython\n",
            "Successfully installed biopython-1.85\n"
          ]
        }
      ],
      "source": [
        "!pip install biopython"
      ]
    },
    {
      "cell_type": "code",
      "source": [
        "import Bio\n",
        "print(Bio.__version__)"
      ],
      "metadata": {
        "colab": {
          "base_uri": "https://localhost:8080/"
        },
        "id": "NKNk2TMM_v7k",
        "outputId": "c1d31073-9c77-4514-e8cd-a29d965f51cc"
      },
      "execution_count": 8,
      "outputs": [
        {
          "output_type": "stream",
          "name": "stdout",
          "text": [
            "1.85\n"
          ]
        }
      ]
    },
    {
      "cell_type": "code",
      "source": [
        "from Bio.Seq import Seq\n",
        "\n",
        "a_simple_sequence = Seq(\"ACTGAAAA\")\n",
        "\n",
        "print(type(a_simple_sequence))"
      ],
      "metadata": {
        "colab": {
          "base_uri": "https://localhost:8080/"
        },
        "id": "3tCwKdqlAHqn",
        "outputId": "134a9b93-f1eb-44ee-e7af-508ea6c7ab62"
      },
      "execution_count": 9,
      "outputs": [
        {
          "output_type": "stream",
          "name": "stdout",
          "text": [
            "<class 'Bio.Seq.Seq'>\n"
          ]
        }
      ]
    },
    {
      "cell_type": "code",
      "source": [
        "print(a_simple_sequence.count(\"A\"))"
      ],
      "metadata": {
        "colab": {
          "base_uri": "https://localhost:8080/"
        },
        "id": "ThZYCdQDB8ba",
        "outputId": "e684f7b5-2f1c-41c6-e770-38d4aea168ce"
      },
      "execution_count": 10,
      "outputs": [
        {
          "output_type": "stream",
          "name": "stdout",
          "text": [
            "5\n"
          ]
        }
      ]
    },
    {
      "cell_type": "code",
      "source": [
        "# GC Content\n",
        "from Bio.SeqUtils import gc_fraction\n",
        "gc_value = gc_fraction(a_simple_sequence)\n",
        "print(\"the gc content = \", round(gc_value, 2), \"%\", sep=\"\")"
      ],
      "metadata": {
        "colab": {
          "base_uri": "https://localhost:8080/"
        },
        "id": "9GE1F0wpDXFB",
        "outputId": "ea23f68c-cb2a-4ce0-aac7-15d1f0b5bb0e"
      },
      "execution_count": 11,
      "outputs": [
        {
          "output_type": "stream",
          "name": "stdout",
          "text": [
            "the gc content = 0.25%\n"
          ]
        }
      ]
    },
    {
      "cell_type": "code",
      "source": [
        "# DNA Sequence\n",
        "sequence = \"ATTTCGAT\"\n",
        "\n",
        "total_of_adenines = sequence.count(\"A\")\n",
        "total_of_cytosines = sequence.count(\"C\")\n",
        "total_of_guanines = sequence.count(\"G\")\n",
        "total_of_thymines = sequence.count(\"T\")\n",
        "\n",
        "print(\"Total of adenines:\", total_of_adenines)\n",
        "print(\"Total of cytosines:\", total_of_cytosines)\n",
        "print(\"Total of guanines:\", total_of_guanines)\n",
        "print(\"Total of thymines:\", total_of_thymines)"
      ],
      "metadata": {
        "id": "fWcHM2BPur2S",
        "colab": {
          "base_uri": "https://localhost:8080/"
        },
        "outputId": "98c927cf-7819-4579-c3b9-410ef9d9863e"
      },
      "execution_count": 12,
      "outputs": [
        {
          "output_type": "stream",
          "name": "stdout",
          "text": [
            "Total of adenines: 2\n",
            "Total of cytosines: 1\n",
            "Total of guanines: 1\n",
            "Total of thymines: 4\n"
          ]
        }
      ]
    },
    {
      "cell_type": "code",
      "source": [
        "# Transcription and Translation (DNA to RNA to Protein)\n",
        "another_sequence = Seq(\"ATC\")\n",
        "print(another_sequence)\n",
        "\n",
        "rev_com = another_sequence.reverse_complement()\n",
        "print(rev_com)\n",
        "\n",
        "comp = another_sequence.complement()\n",
        "print(comp)\n",
        "\n",
        "transc = another_sequence.transcribe()\n",
        "print(transc)\n",
        "\n",
        "transl = another_sequence.translate()\n",
        "print(transl)"
      ],
      "metadata": {
        "colab": {
          "base_uri": "https://localhost:8080/"
        },
        "id": "PCGLtiA5H9yj",
        "outputId": "e9cf60b9-79a3-4b30-f342-87cc2a3ceaa8"
      },
      "execution_count": 16,
      "outputs": [
        {
          "output_type": "stream",
          "name": "stdout",
          "text": [
            "ATC\n",
            "GAT\n",
            "TAG\n",
            "AUC\n",
            "I\n"
          ]
        }
      ]
    }
  ]
}